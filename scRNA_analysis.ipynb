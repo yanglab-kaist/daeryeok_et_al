{
 "cells": [
  {
   "cell_type": "code",
   "execution_count": null,
   "id": "4417231e-814c-4aee-bb78-b5b7cf21e1f3",
   "metadata": {},
   "outputs": [],
   "source": [
    "import numpy as np\n",
    "import pandas as pd\n",
    "import scanpy as sc\n",
    "import anndata as ad\n",
    "import matplotlib.pyplot as plt"
   ]
  },
  {
   "cell_type": "code",
   "execution_count": null,
   "id": "e1f2f2b6-c345-4156-9f57-a57a422bddfb",
   "metadata": {},
   "outputs": [],
   "source": [
    "sc.settings.verbosity = 3             # verbosity: errors (0), warnings (1), info (2), hints (3)\n",
    "sc.logging.print_header()\n",
    "sc.settings.set_figure_params(dpi=100, facecolor='white')"
   ]
  },
  {
   "cell_type": "markdown",
   "id": "e7a8d881-6997-4932-926c-ecc8ee3e7bf4",
   "metadata": {},
   "source": [
    "# Create AnnData"
   ]
  },
  {
   "cell_type": "markdown",
   "id": "4bea953b-3c2b-4c20-afa5-4cb5ad22960d",
   "metadata": {
    "tags": []
   },
   "source": [
    "## 231026_Skin_Fracture_PWD6"
   ]
  },
  {
   "cell_type": "code",
   "execution_count": null,
   "id": "4659ee87-7e12-4eea-85fe-b84fd2ccc81c",
   "metadata": {},
   "outputs": [],
   "source": [
    "aco = ad.AnnData(pd.read_csv(\"../raw/20231026_aco_fracture_pwd6/231026_aco_gene_TPM.csv\", index_col=0).T)\n",
    "aco.var_names = [x.split('_')[2] for x in aco.var_names]\n",
    "\n",
    "aco_cnt = ad.AnnData(pd.read_csv(\"../raw/20231026_aco_fracture_pwd6/231026_aco_gene_count.csv\", index_col=0).T)\n",
    "aco_cnt.var_names = [x.split('_')[2] for x in aco_cnt.var_names]"
   ]
  },
  {
   "cell_type": "code",
   "execution_count": null,
   "id": "fed4987d-7e3e-449b-b1e3-3219d7f0ae0d",
   "metadata": {},
   "outputs": [],
   "source": [
    "meta = pd.read_csv(\"../raw/20231026_aco_fracture_pwd6/samplesheet_scRNA_20231026.csv\", index_col=0, skiprows=13)\n",
    "meta = meta.loc[:,['Sample_Name', 'Sample_Project']]\n",
    "meta = meta.dropna()\n",
    "meta['wound'] = [x[0] for x in meta['Sample_Name'].str.split('_')]\n",
    "meta['fracture'] = [x[1] for x in meta['Sample_Name'].str.split('_')]\n",
    "meta['day'] = '231026'"
   ]
  },
  {
   "cell_type": "code",
   "execution_count": null,
   "id": "9afb5ca0-d0a0-43f0-af43-64f463a98943",
   "metadata": {},
   "outputs": [],
   "source": [
    "aco.obs = meta.loc[aco.obs_names, :].copy()\n",
    "aco_cnt.obs = meta.loc[aco_cnt.obs_names, :].copy()\n",
    "\n",
    "aco.obs_names = [\"231026_\" + x for x in aco.obs_names]\n",
    "aco_cnt.obs_names = [\"231026_\" + x for x in aco_cnt.obs_names]"
   ]
  },
  {
   "cell_type": "code",
   "execution_count": null,
   "id": "52db5d1a-cc72-4728-9f7f-7173b32aff54",
   "metadata": {},
   "outputs": [],
   "source": [
    "aco.write(\"../adata/raw/231026_aco_skin_raw.h5ad\")\n",
    "aco_cnt.write(\"../adata/raw/231026_aco_skin_raw_cnt.h5ad\")"
   ]
  },
  {
   "cell_type": "markdown",
   "id": "1e09359f-4515-4207-bcf6-20da1075ee24",
   "metadata": {
    "tags": []
   },
   "source": [
    "## 231027_Skin_Fracture_PWD2"
   ]
  },
  {
   "cell_type": "code",
   "execution_count": null,
   "id": "af5b79a8-e5bb-4da6-bd0f-e9fae97d1776",
   "metadata": {},
   "outputs": [],
   "source": [
    "aco = ad.AnnData(pd.read_csv(\"../raw/20231027_aco_fracture_pwd2/231027_aco_gene_TPM.csv\", index_col=0).T)\n",
    "aco.var_names = [x.split('_')[2] for x in aco.var_names]\n",
    "\n",
    "aco_cnt = ad.AnnData(pd.read_csv(\"../raw/20231027_aco_fracture_pwd2/231027_aco_gene_count.csv\", index_col=0).T)\n",
    "aco_cnt.var_names = [x.split('_')[2] for x in aco_cnt.var_names]"
   ]
  },
  {
   "cell_type": "code",
   "execution_count": null,
   "id": "8764e4e8-6f91-49a2-979d-39893588c3b0",
   "metadata": {},
   "outputs": [],
   "source": [
    "meta = pd.read_csv(\"../raw/20231027_aco_fracture_pwd2/samplesheet_scRNA_20231027.csv\", index_col=0, skiprows=13)\n",
    "meta = meta.loc[:,['Sample_Name', 'Sample_Project']]\n",
    "meta = meta.dropna()\n",
    "meta['wound'] = [x[0] for x in meta['Sample_Name'].str.split('_')]\n",
    "meta['fracture'] = [x[1] for x in meta['Sample_Name'].str.split('_')]\n",
    "meta['day'] = '231027'"
   ]
  },
  {
   "cell_type": "code",
   "execution_count": null,
   "id": "b78b03a3-a503-474f-a1c2-d6b0bcec7349",
   "metadata": {},
   "outputs": [],
   "source": [
    "aco.obs = meta.loc[aco.obs_names, :].copy()\n",
    "aco_cnt.obs = meta.loc[aco_cnt.obs_names, :].copy()\n",
    "\n",
    "aco.obs_names = [\"231027_\" + x for x in aco.obs_names]\n",
    "aco_cnt.obs_names = [\"231027_\" + x for x in aco_cnt.obs_names]"
   ]
  },
  {
   "cell_type": "code",
   "execution_count": null,
   "id": "802d2d0d-4b81-4bb8-acb4-2bee20273d09",
   "metadata": {},
   "outputs": [],
   "source": [
    "aco.write(\"../adata/raw/231027_aco_skin_raw.h5ad\")\n",
    "aco_cnt.write(\"../adata/raw/231027_aco_skin_raw_cnt.h5ad\")"
   ]
  },
  {
   "cell_type": "markdown",
   "id": "4c0d5818-21ca-46d3-97e0-23f4eef5d890",
   "metadata": {
    "tags": []
   },
   "source": [
    "## 240220_Skin_Fracture_PWD2"
   ]
  },
  {
   "cell_type": "code",
   "execution_count": null,
   "id": "d17f070e-eaa4-4752-92cc-9134b78a0f6e",
   "metadata": {},
   "outputs": [],
   "source": [
    "import numpy as np\n",
    "import pandas as pd\n",
    "import scanpy as sc\n",
    "import anndata as ad"
   ]
  },
  {
   "cell_type": "code",
   "execution_count": null,
   "id": "140efb2b-b5e3-4050-b59e-afd3cec9ed56",
   "metadata": {},
   "outputs": [],
   "source": [
    "aco = ad.AnnData(pd.read_csv(\"../raw/20240220_aco_fracture_pwd2/240220_aco_gene_TPM.csv\", index_col=0).T)\n",
    "aco.var_names = [x.split('_')[2] for x in aco.var_names]\n",
    "\n",
    "aco_cnt = ad.AnnData(pd.read_csv(\"../raw/20240220_aco_fracture_pwd2/240220_aco_gene_count.csv\", index_col=0).T)\n",
    "aco_cnt.var_names = [x.split('_')[2] for x in aco_cnt.var_names]"
   ]
  },
  {
   "cell_type": "code",
   "execution_count": null,
   "id": "5eba2e7b-2d78-412e-9c23-3d66d7e5db43",
   "metadata": {},
   "outputs": [],
   "source": [
    "meta = pd.read_csv(\"../raw/20240220_aco_fracture_pwd2/samplesheet_scRNA_20240220.csv\", index_col=0, skiprows=13)\n",
    "meta = meta.loc[:,['Sample_Name', 'Sample_Project']]\n",
    "meta = meta.dropna()\n",
    "meta['wound'] = [x[0] for x in meta['Sample_Name'].str.split('_')]\n",
    "meta['fracture'] = [x[1] for x in meta['Sample_Name'].str.split('_')]\n",
    "meta['day'] = '240220'"
   ]
  },
  {
   "cell_type": "code",
   "execution_count": null,
   "id": "656c609a-5770-4abd-b98e-d906a746ebaa",
   "metadata": {},
   "outputs": [],
   "source": [
    "aco.obs = meta.loc[aco.obs_names, :].copy()\n",
    "aco_cnt.obs = meta.loc[aco_cnt.obs_names, :].copy()\n",
    "\n",
    "aco.obs_names = [\"240220_\" + x for x in aco.obs_names]\n",
    "aco_cnt.obs_names = [\"240220_\" + x for x in aco_cnt.obs_names]"
   ]
  },
  {
   "cell_type": "code",
   "execution_count": null,
   "id": "d416df4e-8eda-42df-bf48-f483c9537761",
   "metadata": {},
   "outputs": [],
   "source": [
    "aco.write(\"../adata/raw/240220_aco_skin_raw.h5ad\")\n",
    "aco_cnt.write(\"../adata/raw/240220_aco_skin_raw_cnt.h5ad\")"
   ]
  },
  {
   "cell_type": "markdown",
   "id": "5ecb4f14-eadc-447c-85a4-2f6b7dba7a7c",
   "metadata": {
    "tags": []
   },
   "source": [
    "## 240415_Skin_Fracture_PWh6"
   ]
  },
  {
   "cell_type": "code",
   "execution_count": null,
   "id": "28805bd1-494c-4f70-b77a-aad97639466d",
   "metadata": {},
   "outputs": [],
   "source": [
    "aco = ad.AnnData(pd.read_csv(\"../raw/20240415_aco_fracture_pwh6/240415_aco_gene_TPM.csv\", index_col=0).T)\n",
    "aco.var_names = [x.split('_')[2] for x in aco.var_names]\n",
    "\n",
    "aco_cnt = ad.AnnData(pd.read_csv(\"../raw/20240415_aco_fracture_pwh6/240415_aco_gene_count.csv\", index_col=0).T)\n",
    "aco_cnt.var_names = [x.split('_')[2] for x in aco_cnt.var_names]"
   ]
  },
  {
   "cell_type": "code",
   "execution_count": null,
   "id": "d5f3522e-5765-4a23-a93b-a9418d6221a3",
   "metadata": {},
   "outputs": [],
   "source": [
    "meta = pd.read_csv(\"../raw/20240415_aco_fracture_pwh6/samplesheet_scRNA_240415_Fracture_Skin_PWH6.csv\", index_col=0, skiprows=13)\n",
    "meta = meta.loc[:,['Sample_Name', 'Sample_Project']]\n",
    "meta = meta.dropna()\n",
    "meta['wound'] = 'PW6h'\n",
    "meta['fracture'] = [x[0:-3] for x in meta['Sample_Name']]\n",
    "meta['day'] = '240415'"
   ]
  },
  {
   "cell_type": "code",
   "execution_count": null,
   "id": "7f7b44c1-c05e-451c-a6f4-41e16ebf720b",
   "metadata": {},
   "outputs": [],
   "source": [
    "aco.obs = meta.loc[aco.obs_names, :].copy()\n",
    "aco_cnt.obs = meta.loc[aco_cnt.obs_names, :].copy()\n",
    "\n",
    "aco.obs_names = [\"240415_\" + x for x in aco.obs_names]\n",
    "aco_cnt.obs_names = [\"240415_\" + x for x in aco_cnt.obs_names]"
   ]
  },
  {
   "cell_type": "code",
   "execution_count": null,
   "id": "98d10c4f-de9b-45b2-a42b-0f24b9aed44d",
   "metadata": {},
   "outputs": [],
   "source": [
    "aco.raw = aco\n",
    "aco_cnt.raw = aco_cnt\n",
    "\n",
    "aco.write(\"../adata/raw/240415_aco_skin_raw.h5ad\")\n",
    "aco_cnt.write(\"../adata/raw/240415_aco_skin_raw_cnt.h5ad\")"
   ]
  },
  {
   "cell_type": "markdown",
   "id": "3325e8e4-4f01-49bc-b10c-b89d5bf3f9d3",
   "metadata": {},
   "source": [
    "# PreProcessing / Annotation"
   ]
  },
  {
   "cell_type": "code",
   "execution_count": null,
   "id": "0d2bb925-d0a1-4165-bec0-43da4b15b098",
   "metadata": {},
   "outputs": [],
   "source": [
    "aco_merged = ad.concat({\"231026\" : sc.read(\"../adata/raw/231026_aco_skin_raw.h5ad\"),\n",
    "                       \"231027\" : sc.read(\"../adata/raw/231027_aco_skin_raw.h5ad\"),\n",
    "                       \"240220\" : sc.read(\"../adata/raw/240220_aco_skin_raw.h5ad\"),\n",
    "                       \"240415\" : sc.read(\"../adata/raw/240415_aco_skin_raw.h5ad\")}, \n",
    "                       label='dataset', index_unique=\"_\")"
   ]
  },
  {
   "cell_type": "code",
   "execution_count": null,
   "id": "0a2987bb-4775-4c56-b883-ca29566a54d3",
   "metadata": {},
   "outputs": [],
   "source": [
    "aco_merged.obs['wound_fracture'] = [x+'_'+y for x, y in zip(aco_merged.obs['fracture'], aco_merged.obs['wound'])]"
   ]
  },
  {
   "cell_type": "code",
   "execution_count": null,
   "id": "6baf7c26-b2e9-4ccf-b55f-72f53f6831b8",
   "metadata": {},
   "outputs": [],
   "source": [
    "aco_merged"
   ]
  },
  {
   "cell_type": "code",
   "execution_count": null,
   "id": "d43298a5-6c77-4734-9b68-400b7675853f",
   "metadata": {},
   "outputs": [],
   "source": [
    "sc.pp.filter_cells(aco_merged, min_genes=500)\n",
    "sc.pp.filter_genes(aco_merged, min_cells=1)\n",
    "aco_merged.layers['TPM'] = aco_merged.X.copy()\n",
    "sc.pp.log1p(aco_merged)\n",
    "sc.pp.highly_variable_genes(aco_merged)\n",
    "sc.tl.pca(aco_merged)"
   ]
  },
  {
   "cell_type": "code",
   "execution_count": null,
   "id": "c6fe7859-cd7e-4010-b747-53a1e8ea18d4",
   "metadata": {},
   "outputs": [],
   "source": [
    "sc.pl.pca_variance_ratio(aco_merged, log=True)"
   ]
  },
  {
   "cell_type": "code",
   "execution_count": null,
   "id": "3674bb86-431f-4f37-97eb-9b48eeb7c3a0",
   "metadata": {},
   "outputs": [],
   "source": [
    "sc.pp.neighbors(aco_merged, n_pcs=12)\n",
    "sc.tl.umap(aco_merged)\n",
    "sc.tl.leiden(aco_merged, resolution=0.25)"
   ]
  },
  {
   "cell_type": "code",
   "execution_count": null,
   "id": "02cc8fe5-0680-496b-9df8-0e158afd646d",
   "metadata": {},
   "outputs": [],
   "source": [
    "sc.pl.umap(aco_merged, color=['Krt14','Pdgfra','Myh11','Ptprc','Pecam1','Lyve1','Cd68','Cd3d'\n",
    "                             ,'Sox10','Mrgprb1','Il1b', 'Myh11',\n",
    "                             'Cdh1','Mki67','Kit','Mitf','Tyr','Dct','Tubb3','Gap43','Mbp','Itga6','Itgb1','Itgb4','Pdgfrb','Vim',\n",
    "                             ], size=15, ncols=4)"
   ]
  },
  {
   "cell_type": "code",
   "execution_count": null,
   "id": "fb3d3ced-dba9-4ab0-a2e9-a0a76731eeb2",
   "metadata": {},
   "outputs": [],
   "source": [
    "sc.pl.umap(aco_merged, color=['Ptprc',\n",
    "                              'Cd68','Cd86','Lyz1',\n",
    "                              'S100a9','Slpi','Vegfa'\n",
    "                             ], size=15, ncols=4,)"
   ]
  },
  {
   "cell_type": "code",
   "execution_count": null,
   "id": "ceac8ed6-b400-4406-bdae-37507b79b03b",
   "metadata": {},
   "outputs": [],
   "source": [
    "new_cluster_names = \"Early Macrophage(M2)/Macrophage(M2)/Epithelial/Fibroblast/Macrophage(M1)/Endothelial/T lymphocyte/Mast cell\".split('/')\n",
    "aco_merged.rename_categories('cell_type', new_cluster_names)"
   ]
  },
  {
   "cell_type": "code",
   "execution_count": null,
   "id": "48e41e15-cea2-4279-89cc-10d519589b2b",
   "metadata": {},
   "outputs": [],
   "source": [
    "# Regard M2 = Anti-inflammatory, M1= Pro-inflammatory to meet naming convention\n",
    "aco_merged.obs['plot_type'] = ['Anti-inflammatory macrophages' if x in ['Early Macrophage(M2)','Macrophage(M2)'] \n",
    "                               else 'Pro-inflammatory macrophages' if x == 'Macrophage(M1)' \n",
    "                               else 'Epithelial cells' if x == 'Epithelial'\n",
    "                               else 'Fibroblasts' if x == 'Fibroblast'\n",
    "                               else 'Endothelial cells' if x == 'Endothelial'\n",
    "                               else 'T cells' if x == 'T lymphocyte'\n",
    "                               else 'Mast cells' if x == 'Mast cell'\n",
    "                               else x for x in aco_merged.obs.cell_type]\n",
    "plot_order = ['Pro-inflammatory macrophages', 'Anti-inflammatory macrophages', 'Epithelial cells', 'Fibroblasts',\n",
    " 'Endothelial cells','T cells', 'Mast cells']\n",
    "aco_merged.obs[\"plot_type\"] = pd.Categorical(values=aco_merged.obs['plot_type'], categories=plot_order, ordered=True)"
   ]
  },
  {
   "cell_type": "code",
   "execution_count": null,
   "id": "c72b2344-7b58-421a-bd4e-7e4fefcd48fb",
   "metadata": {},
   "outputs": [],
   "source": [
    "aco_merged.write(\"../adata/skin_fracture_annotated_aco.h5ad\")"
   ]
  },
  {
   "cell_type": "markdown",
   "id": "5291db49-6c8d-416b-bb7c-de9efec9e47b",
   "metadata": {},
   "source": [
    "# Analysis"
   ]
  },
  {
   "cell_type": "markdown",
   "id": "92015acd-b7e2-489a-9834-f38930edc306",
   "metadata": {},
   "source": [
    "## QC metrics"
   ]
  },
  {
   "cell_type": "code",
   "execution_count": null,
   "id": "7f4074f2-9b9b-4d22-b33c-03468f8b1abc",
   "metadata": {},
   "outputs": [],
   "source": [
    "aco_merged = sc.read(\"../adata/skin_fracture_annotated_aco.h5ad\")"
   ]
  },
  {
   "cell_type": "code",
   "execution_count": null,
   "id": "cd29e1ef-1b45-4304-a61a-f896526fe19b",
   "metadata": {},
   "outputs": [],
   "source": [
    "raw_counts = ad.concat({\"231026\" : sc.read(\"../adata/raw/231026_aco_skin_raw_cnt.h5ad\"),\n",
    "                       \"231027\" : sc.read(\"../adata/raw/231027_aco_skin_raw_cnt.h5ad\"),\n",
    "                       \"240220\" : sc.read(\"../adata/raw/240220_aco_skin_raw_cnt.h5ad\"),\n",
    "                       \"240415\" : sc.read(\"../adata/raw/240415_aco_skin_raw_cnt.h5ad\")}, \n",
    "                       label='dataset', index_unique=\"_\")"
   ]
  },
  {
   "cell_type": "code",
   "execution_count": null,
   "id": "6f86b0ad-9441-4a15-8eed-ee0c776d8ccf",
   "metadata": {},
   "outputs": [],
   "source": [
    "sc.pp.calculate_qc_metrics(raw_counts, percent_top=None, inplace=True)"
   ]
  },
  {
   "cell_type": "code",
   "execution_count": null,
   "id": "07f6b4eb-2a1f-4d20-8143-d3889fcc48c9",
   "metadata": {},
   "outputs": [],
   "source": [
    "raw_counts.obs['wound_fracture'] = [x+'_'+y for x, y in zip(raw_counts.obs['fracture'], raw_counts.obs['wound'])]"
   ]
  },
  {
   "cell_type": "code",
   "execution_count": null,
   "id": "746e5e37-445d-479b-b9ef-de1f76a95ea5",
   "metadata": {},
   "outputs": [],
   "source": [
    "raw_counts"
   ]
  },
  {
   "cell_type": "code",
   "execution_count": null,
   "id": "a680ef9f-ead3-45a0-aca4-08b3d409dd59",
   "metadata": {},
   "outputs": [],
   "source": [
    "# Unfiltered count\n",
    "plt.rcParams[\"figure.figsize\"] = (10,10)\n",
    "plt.rcParams['figure.dpi'] = 1000\n",
    "sc.pl.violin(raw_counts, ['total_counts'], groupby='wound_fracture', log=True, save='Unfiltered_raw_counts.png')\n",
    "plt.rcParams[\"figure.figsize\"] = plt.rcParamsDefault[\"figure.figsize\"]\n",
    "plt.rcParamsDefault['figure.dpi'] = plt.rcParamsDefault['figure.dpi']"
   ]
  },
  {
   "cell_type": "code",
   "execution_count": null,
   "id": "4d2fc78a-f42e-48d4-b1f0-e303795fe1db",
   "metadata": {},
   "outputs": [],
   "source": [
    "# Unfiltered count\n",
    "plt.rcParams[\"figure.figsize\"] = (10,10)\n",
    "plt.rcParams['figure.dpi'] = 1000\n",
    "sc.pl.violin(raw_counts, ['n_genes_by_counts'], groupby='wound_fracture', log=False, save='Unfiltered_raw_gene_counts.png')\n",
    "plt.rcParams[\"figure.figsize\"] = plt.rcParamsDefault[\"figure.figsize\"]\n",
    "plt.rcParamsDefault['figure.dpi'] = plt.rcParamsDefault['figure.dpi']"
   ]
  },
  {
   "cell_type": "code",
   "execution_count": null,
   "id": "04c4ee5e-fafd-4239-bc75-dfdc98f55fff",
   "metadata": {},
   "outputs": [],
   "source": [
    "#filtered\n",
    "raw_filtered = raw_counts[aco_merged.obs_names, :].copy()"
   ]
  },
  {
   "cell_type": "code",
   "execution_count": null,
   "id": "245bee09-9e55-406e-89b4-37dc7bacb47e",
   "metadata": {},
   "outputs": [],
   "source": [
    "# filtered count\n",
    "plt.rcParams[\"figure.figsize\"] = (10,10)\n",
    "plt.rcParams['figure.dpi'] = 1000\n",
    "sc.pl.violin(raw_filtered, ['total_counts'], groupby='wound_fracture', log=True, save='Filtered_raw_counts.png')\n",
    "plt.rcParams[\"figure.figsize\"] = plt.rcParamsDefault[\"figure.figsize\"]\n",
    "plt.rcParamsDefault['figure.dpi'] = plt.rcParamsDefault['figure.dpi']"
   ]
  },
  {
   "cell_type": "code",
   "execution_count": null,
   "id": "4036fc7d-d5de-47ff-bc56-b98346c57346",
   "metadata": {},
   "outputs": [],
   "source": [
    "# filtered count\n",
    "plt.rcParams[\"figure.figsize\"] = (10,10)\n",
    "plt.rcParams['figure.dpi'] = 1000\n",
    "sc.pl.violin(raw_filtered, ['n_genes_by_counts'], groupby='wound_fracture', log=False, save='Filtered_raw_gene_counts.png')\n",
    "plt.rcParams[\"figure.figsize\"] = plt.rcParamsDefault[\"figure.figsize\"]\n",
    "plt.rcParamsDefault['figure.dpi'] = plt.rcParamsDefault['figure.dpi']"
   ]
  },
  {
   "cell_type": "markdown",
   "id": "f35c2220-ea31-4868-9bb4-802bd37e7409",
   "metadata": {},
   "source": [
    "## Plotting"
   ]
  },
  {
   "cell_type": "markdown",
   "id": "5095d02e-72da-4ec7-93e0-c185673c5f50",
   "metadata": {},
   "source": [
    "### Fig 5F : UMAP plot"
   ]
  },
  {
   "cell_type": "code",
   "execution_count": null,
   "id": "52384394-63ab-43aa-b58a-431dcb77db5d",
   "metadata": {},
   "outputs": [],
   "source": [
    "plt.rcParams[\"figure.figsize\"] = (10,10)\n",
    "plt.rcParams['figure.dpi'] = 1000\n",
    "for f in ['plot_type', 'wound_fracture','wound','fracture']:\n",
    "    sc.pl.umap(aco_merged, color=[f], size=30, use_raw=False, save='250618_Fig'+f+'.png',show=False)\n",
    "plt.rcParams[\"figure.figsize\"] = plt.rcParamsDefault[\"figure.figsize\"]\n",
    "plt.rcParamsDefault['figure.dpi'] = plt.rcParamsDefault['figure.dpi']"
   ]
  },
  {
   "cell_type": "code",
   "execution_count": null,
   "id": "a7fd34d3-5a48-4661-98a4-1d490666f8a6",
   "metadata": {},
   "outputs": [],
   "source": [
    "plt.rcParams[\"figure.figsize\"] = (10,10)\n",
    "plt.rcParams['figure.dpi'] = 1000\n",
    "for f in [\"PW6h\", \"PWD2\", \"PWD6\"]:\n",
    "    aco_merged.obs['temp'] = [aco_merged.obs.fracture[i] if aco_merged.obs.wound[i] == f else None for i in range(len(aco_merged.obs))]\n",
    "    sc.pl.umap(aco_merged, color=['temp'], size=60, title=f, save='WithBackground_Fig'+f+'.png', show=False, na_color='gainsboro')\n",
    "plt.rcParams[\"figure.figsize\"] = plt.rcParamsDefault[\"figure.figsize\"]\n",
    "plt.rcParamsDefault['figure.dpi'] = plt.rcParamsDefault['figure.dpi']"
   ]
  },
  {
   "cell_type": "markdown",
   "id": "5e93d2fd-3e66-4277-9d2b-06a626c1eb17",
   "metadata": {},
   "source": [
    "### Fig 5G : DEG dot plot"
   ]
  },
  {
   "cell_type": "code",
   "execution_count": null,
   "id": "6874ffb3-e606-4377-bb44-3a5e5d0af4ac",
   "metadata": {},
   "outputs": [],
   "source": [
    "fib = aco_merged[(aco_merged.obs.wound=='PWD2')&(aco_merged.obs.cell_type.str.contains('ibroblast'))].copy()\n",
    "epi = aco_merged[(aco_merged.obs.wound=='PWD2')&(aco_merged.obs.cell_type.str.contains('pithelial'))].copy()\n",
    "mac = aco_merged[(aco_merged.obs.wound=='PWD2')&(aco_merged.obs.cell_type.str.contains('acrophage'))].copy()"
   ]
  },
  {
   "cell_type": "code",
   "execution_count": null,
   "id": "f044c3ae-5e17-44fb-8843-f9fb11fb1262",
   "metadata": {},
   "outputs": [],
   "source": [
    "fib.obs['fracture_name'] = [\"Fibroblast_\"+x for x in fib.obs['fracture']]\n",
    "dp = sc.pl.dotplot(fib, ['Pdgfra',\n",
    "                   'Eif3i','Eif4a1','Aimp2','Pgam1','Tpi1','Pkm','Itgav','Actg1','Cav1','Cd151',\n",
    "                   'Col1a1','Col1a2','Col3a1','Col15a1','Fbln1','Eln','Vit','Mmp2','Mmp23','Vegfc','Igf1'], 'fracture', show=False)\n",
    "ax = dp[\"mainplot_ax\"]\n",
    "for l in ax.get_xticklabels():\n",
    "    l.set_style(\"italic\")\n",
    "    l.set_fontsize(l.get_fontsize()*1.3)\n",
    "    \n",
    "plt.savefig('Italic_Fib_PWD2.png', dpi=1000, bbox_inches='tight')"
   ]
  },
  {
   "cell_type": "code",
   "execution_count": null,
   "id": "3e003809-0d0d-4b1f-9c30-b3a22999ab1c",
   "metadata": {},
   "outputs": [],
   "source": [
    "fib.obs['fracture_name'] = [\"Fibroblast_\"+x for x in fib.obs['fracture']]\n",
    "dp = sc.pl.dotplot(epi, ['Cdh1','Epcam',\n",
    "                   'Dlx1','Cux1','Cebpb','Lbh','Lef1','Msx2','Lhx2','Kdm5a','Slc39a6','Slc39a10','Slc7a8','Egfr',\n",
    "                   'Ccl8','Ccl27a','Il7','Il18','Il33','Cxcl17','Il1r2','Il20rb'], 'fracture', show=False)\n",
    "ax = dp[\"mainplot_ax\"]\n",
    "for l in ax.get_xticklabels():\n",
    "    l.set_style(\"italic\")\n",
    "    l.set_fontsize(l.get_fontsize()*1.3)\n",
    "    \n",
    "plt.savefig('Italic_Epi_PWD2.png', dpi=1000, bbox_inches='tight')"
   ]
  },
  {
   "cell_type": "code",
   "execution_count": null,
   "id": "76c0e5da-0c65-4458-8906-141e579e7a85",
   "metadata": {},
   "outputs": [],
   "source": [
    "mac.obs['fracture_name'] = [\"Macrophage_\"+x for x in mac.obs['fracture']]\n",
    "dp = sc.pl.dotplot(mac, ['Ptprc','Itgam','Mertk',\n",
    "                   'S100a9','Il1r2','Ccl3','Cxcl2','Slpi','Ccrl2','Vegfa','Ltf','Adam8',\n",
    "                   'Cd68','Cd36','Ccl8','Lyz1','Rpl7','Rps8','Rpl36a','Ctss','Cd74','Ifi30',], 'fracture', show=False)\n",
    "ax = dp[\"mainplot_ax\"]\n",
    "for l in ax.get_xticklabels():\n",
    "    l.set_style(\"italic\")\n",
    "    l.set_fontsize(l.get_fontsize()*1.3)\n",
    "    \n",
    "plt.savefig('Italic_Mac_PWD2.png', dpi=1000, bbox_inches='tight')"
   ]
  },
  {
   "cell_type": "markdown",
   "id": "526c6894-faad-4b15-8bf9-e8caa8e04ae0",
   "metadata": {},
   "source": [
    "### Fig S8A : Marker Genes UMAP plot"
   ]
  },
  {
   "cell_type": "code",
   "execution_count": null,
   "id": "1bd87cc3-0e4c-4f20-a508-ee4bacc4faec",
   "metadata": {},
   "outputs": [],
   "source": [
    "plt.rcParams[\"figure.figsize\"] = (10,10)\n",
    "ax = sc.pl.umap(aco_merged, color=['S100a9','Slpi',\n",
    "                              'Vegfa','Cd68',\n",
    "                              'Lyz1','Cd86',\n",
    "                             'Cd4','Cd3d',\n",
    "                             'Kit','Mrgprb1'], size=30, ncols=2, show=False\n",
    "plt.rcParamsDefault['figure.dpi'] = plt.rcParamsDefault['figure.dpi']"
   ]
  },
  {
   "cell_type": "code",
   "execution_count": null,
   "id": "2d3458b5-fdc0-4e3c-84d8-82a90967fd5c",
   "metadata": {},
   "outputs": [],
   "source": [
    "for i in range(10):\n",
    "    l = ax.axes[i*2]\n",
    "    l.set_title(l.get_title(), \n",
    "                    {'fontsize':'x-large',\n",
    "                    'fontstyle':'italic'})\n",
    "ax.savefig('Marker_genes_immune.png', dpi=1000, bbox_inches='tight')"
   ]
  },
  {
   "cell_type": "code",
   "execution_count": null,
   "id": "0ef23a37-3ddc-44d3-8f61-0de8a034609b",
   "metadata": {},
   "outputs": [],
   "source": [
    "plt.rcParams[\"figure.figsize\"] = (10,10)\n",
    "ax = sc.pl.umap(aco_merged, color=['Epcam','Cdh1',\n",
    "                             'Pdgfra','Fap',\n",
    "                             'Pecam1','Cdh5',], size=30, ncols=2, show=False, return_fig=True)\n",
    "plt.rcParamsDefault['figure.dpi'] = plt.rcParamsDefault['figure.dpi']"
   ]
  },
  {
   "cell_type": "code",
   "execution_count": null,
   "id": "6a35da93-5d4d-425d-a355-7e777ad002c9",
   "metadata": {},
   "outputs": [],
   "source": [
    "for i in range(6):\n",
    "    l = ax.axes[i*2]\n",
    "    l.set_title(l.get_title(), \n",
    "                    {'fontsize':'x-large',\n",
    "                    'fontstyle':'italic'})\n",
    "ax.savefig('Marker_genes_others.png', dpi=1000, bbox_inches='tight')"
   ]
  },
  {
   "cell_type": "markdown",
   "id": "90c69852-33f3-4eb2-9c99-d99209f95f51",
   "metadata": {},
   "source": [
    "### Fig S8B : DEG dot plot"
   ]
  },
  {
   "cell_type": "code",
   "execution_count": null,
   "id": "ac211743-b79d-434d-b64d-8009d9567916",
   "metadata": {},
   "outputs": [],
   "source": [
    "mac_all = aco_merged[(aco_merged.obs.plot_type.str.contains('macrophage'))].copy()\n",
    "mac_all.obs['mac'] = mac_all.obs.plot_type\n",
    "sc.tl.rank_genes_groups(mac_all, 'plot_type')\n",
    "df_all = pd.DataFrame(mac_all.uns['rank_genes_groups']['names'])"
   ]
  },
  {
   "cell_type": "code",
   "execution_count": null,
   "id": "b737e144-e6b2-44df-bc83-ea5851f7ad81",
   "metadata": {},
   "outputs": [],
   "source": [
    "dp = sc.pl.dotplot(mac_all, \n",
    "    dict(pd.concat([df_all.iloc[[0,1,2,3,4,5,7,8,9,10,11,12,13,14,15,16,17,19],0].reset_index(),\n",
    "          df_all.iloc[[0,1,2,3,4,5,6,7,9,10,11,12,13,14,15,16,17,18],1].reset_index()],axis=1).loc[:,['Pro-inflammatory macrophages','Anti-inflammatory macrophages']]), \n",
    "                   'plot_type', show=False,\n",
    "                  categories_order=['Pro-inflammatory macrophages','Anti-inflammatory macrophages'],\n",
    "                  var_group_rotation=0)\n",
    "ax = dp[\"mainplot_ax\"]\n",
    "for l in ax.get_xticklabels():\n",
    "    l.set_style(\"italic\")\n",
    "    l.set_fontsize(l.get_fontsize()*1.3)\n",
    "\n",
    "plt.savefig('250618_Mac_DEG_dot_plot.png', dpi=1000, bbox_inches='tight')"
   ]
  },
  {
   "cell_type": "markdown",
   "id": "71951903-c027-492e-a92f-0b2c432614b9",
   "metadata": {},
   "source": [
    "### Fig S8C : Cell Composion Bar plot"
   ]
  },
  {
   "cell_type": "code",
   "execution_count": null,
   "id": "d8d4dfdf-a197-49de-93de-9afb6f545aaf",
   "metadata": {},
   "outputs": [],
   "source": [
    "plt.cla()\n",
    "com_plot = (aco_merged.obs[['wound_fracture','plot_type']].groupby('wound_fracture').value_counts(normalize=True)*100).unstack().plot(kind='bar',stacked=True)\n",
    "com_plot.legend(loc='center left', bbox_to_anchor=(1,0.5))\n",
    "plt.savefig('250618_Cell_by_woundxfracture.png', dpi=1000, bbox_inches='tight')"
   ]
  }
 ],
 "metadata": {
  "kernelspec": {
   "display_name": "Python 3 (ipykernel)",
   "language": "python",
   "name": "python3"
  },
  "language_info": {
   "codemirror_mode": {
    "name": "ipython",
    "version": 3
   },
   "file_extension": ".py",
   "mimetype": "text/x-python",
   "name": "python",
   "nbconvert_exporter": "python",
   "pygments_lexer": "ipython3",
   "version": "3.10.13"
  }
 },
 "nbformat": 4,
 "nbformat_minor": 5
}
