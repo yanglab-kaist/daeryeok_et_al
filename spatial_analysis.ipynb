{
 "cells": [
  {
   "cell_type": "code",
   "execution_count": null,
   "id": "c1588494-e9d5-4bbd-8f13-2dd4335415c4",
   "metadata": {},
   "outputs": [],
   "source": [
    "import pathlib\n",
    "\n",
    "import numpy as np\n",
    "import pandas as pd\n",
    "\n",
    "import anndata as ad\n",
    "import scanpy as sc\n",
    "import squidpy as sq\n",
    "\n",
    "import seaborn as sns\n",
    "import matplotlib.pyplot as plt\n",
    "\n",
    "import tangram as tg\n",
    "\n",
    "sc.logging.print_header()\n",
    "print(f\"squidpy=={sq.__version__}\")\n",
    "print(f\"tangram=={tg.__version__}\")"
   ]
  },
  {
   "cell_type": "markdown",
   "id": "52ea81a9-c751-4810-b2cf-bf389c144a91",
   "metadata": {},
   "source": [
    "# Create Squidpy data"
   ]
  },
  {
   "cell_type": "code",
   "execution_count": null,
   "id": "cd0d88ea-8a11-41f5-a126-d8777532585d",
   "metadata": {},
   "outputs": [],
   "source": [
    "vis_aco = sq.read.visium(\"../../visium_data/20230807_Visium/B1_Lower/outs\")\n",
    "vis_aco.var_names_make_unique()"
   ]
  },
  {
   "cell_type": "code",
   "execution_count": null,
   "id": "a7ed095b-87a4-4c54-af07-9c5ea9a52249",
   "metadata": {},
   "outputs": [],
   "source": [
    "vis_aco"
   ]
  },
  {
   "cell_type": "code",
   "execution_count": null,
   "id": "004469b0-9bae-4074-aa08-aeae308c3d44",
   "metadata": {},
   "outputs": [],
   "source": [
    "sc.pp.calculate_qc_metrics(vis_aco, inplace=True)"
   ]
  },
  {
   "cell_type": "code",
   "execution_count": null,
   "id": "41e6cdbd-6194-4945-a4c3-b3470d587f49",
   "metadata": {},
   "outputs": [],
   "source": [
    "sc.pp.normalize_total(vis_aco, inplace=True) #CPM normalizeation\n",
    "sc.pp.log1p(vis_aco)\n",
    "sc.pp.highly_variable_genes(vis_aco)\n",
    "sc.pp.pca(vis_aco)"
   ]
  },
  {
   "cell_type": "code",
   "execution_count": null,
   "id": "e7e7c2d1-2d16-4a99-9646-b537975d8be5",
   "metadata": {},
   "outputs": [],
   "source": [
    "sc.pl.pca_variance_ratio(vis_aco, log=True)"
   ]
  },
  {
   "cell_type": "code",
   "execution_count": null,
   "id": "e0d5c1f3-aaaa-4cfa-8e46-2b1f07cc2d52",
   "metadata": {},
   "outputs": [],
   "source": [
    "sc.pp.neighbors(vis_aco, n_pcs=15)\n",
    "sc.tl.umap(vis_aco)\n",
    "sc.tl.leiden(vis_aco, resolution=0.4)"
   ]
  },
  {
   "cell_type": "code",
   "execution_count": null,
   "id": "18ad4ea3-254e-4b9c-9bb1-4b6c48f9276e",
   "metadata": {},
   "outputs": [],
   "source": [
    "meta = pd.read_csv(\"../../visium_data/20230807_Visium/B1_Lower/outs/Graph-based.csv\", index_col=0)"
   ]
  },
  {
   "cell_type": "code",
   "execution_count": null,
   "id": "7f40d521-43d0-4a4f-8e90-e725f66143a8",
   "metadata": {},
   "outputs": [],
   "source": [
    "vis_aco.obs['Graph-based'] = meta"
   ]
  },
  {
   "cell_type": "markdown",
   "id": "2f8abebe-2e8f-419b-9e4b-2ff7012bf408",
   "metadata": {},
   "source": [
    "# Analysis"
   ]
  },
  {
   "cell_type": "code",
   "execution_count": null,
   "id": "e45275b2-5324-4855-8090-e613cc46f4f9",
   "metadata": {},
   "outputs": [],
   "source": [
    "sc.tl.rank_genes_groups(vis_aco, 'Graph-based')"
   ]
  },
  {
   "cell_type": "markdown",
   "id": "9581c4d0-de7e-4181-9ffc-40a0ddd8a6b2",
   "metadata": {},
   "source": [
    "## Fig S3C : Table genes equivalents (originally by 10x Loupe)"
   ]
  },
  {
   "cell_type": "code",
   "execution_count": null,
   "id": "ad3229b8-613a-4312-8a02-6aaba32709f7",
   "metadata": {},
   "outputs": [],
   "source": [
    "# THis is 'Fiber'\n",
    "vis_aco.uns['rank_genes_groups']['names']['Cluster 1'][:30]"
   ]
  },
  {
   "cell_type": "code",
   "execution_count": null,
   "id": "fda2124f-d61a-448d-9e89-040e42c3655e",
   "metadata": {},
   "outputs": [],
   "source": [
    "# This is 'lipid'\n",
    "vis_aco.uns['rank_genes_groups']['names']['Cluster 2'][:30]"
   ]
  },
  {
   "cell_type": "code",
   "execution_count": null,
   "id": "573d7d03-871f-4bce-8a98-2076b1bb9d6e",
   "metadata": {},
   "outputs": [],
   "source": [
    "sc.tl.score_genes(vis_aco, gene_list = vis_aco.uns['rank_genes_groups']['names']['Cluster 1'][:30], score_name='Fiber')"
   ]
  },
  {
   "cell_type": "code",
   "execution_count": null,
   "id": "df07aa94-df86-4b88-bd37-16acdde8d869",
   "metadata": {},
   "outputs": [],
   "source": [
    "sc.tl.score_genes(vis_aco, gene_list = vis_aco.uns['rank_genes_groups']['names']['Cluster 2'][:30], score_name='Lipid')"
   ]
  },
  {
   "cell_type": "markdown",
   "id": "339d60cd-d85f-4307-b696-ef424a3bea00",
   "metadata": {},
   "source": [
    "## Fig 2G : Spatial Plot equivalents (originally by 10x Loupe)"
   ]
  },
  {
   "cell_type": "code",
   "execution_count": null,
   "id": "f346e213-ed5e-4048-917f-4ad3b771585b",
   "metadata": {},
   "outputs": [],
   "source": [
    "sc.pl.spatial(vis_aco, color=['Graph-based','Fiber','Lipid'], alpha_img=0, save='Visium_Score.png')"
   ]
  },
  {
   "cell_type": "markdown",
   "id": "9fd561d8-ef3f-40c6-a0fe-9690d1633cef",
   "metadata": {},
   "source": [
    "## Fig S3A: QC Metrics"
   ]
  },
  {
   "cell_type": "code",
   "execution_count": null,
   "id": "43b12fbf-db7c-45f1-b882-766d53ab8e73",
   "metadata": {},
   "outputs": [],
   "source": [
    "plt.rcParams[\"figure.figsize\"] = (10,10)\n",
    "sns.histplot(vis_aco.obs[\"total_counts\"], kde=False, ).figure.savefig(\"Visium_total_counts.png\", dpi=1000, bbox_inches='tight')\n",
    "plt.rcParams[\"figure.figsize\"] = plt.rcParamsDefault[\"figure.figsize\"]"
   ]
  },
  {
   "cell_type": "code",
   "execution_count": null,
   "id": "3f3b6be5-25bd-4a88-ad95-cbe479686e82",
   "metadata": {},
   "outputs": [],
   "source": [
    "plt.rcParams[\"figure.figsize\"] = (10,10)\n",
    "sns.histplot(vis_aco.obs[\"n_genes_by_counts\"], kde=False, ).figure.savefig(\"Visium_gene_counts.png\",  dpi=1000, bbox_inches='tight')\n",
    "plt.rcParams[\"figure.figsize\"] = plt.rcParamsDefault[\"figure.figsize\"]"
   ]
  },
  {
   "cell_type": "code",
   "execution_count": null,
   "id": "4520f8c2-a6b3-4f5c-aa20-1238e4d078fb",
   "metadata": {},
   "outputs": [],
   "source": [
    "sc.pl.spatial(vis_aco, color=['total_counts','n_genes_by_counts'], alpha_img=0, save='Visium_QC.png')"
   ]
  },
  {
   "cell_type": "markdown",
   "id": "ec06ad35-0642-45d4-a830-6b462e92c53c",
   "metadata": {},
   "source": [
    "## Fig S3B : Gene Expression Spatial Plot equivalents (originally by 10x Loupe)"
   ]
  },
  {
   "cell_type": "code",
   "execution_count": null,
   "id": "b19d7000-8fe2-44e4-90a7-df69e80667af",
   "metadata": {},
   "outputs": [],
   "source": [
    "sc.pl.spatial(vis_aco, color=['Car3','Lpl','Lum','Loxl2'], alpha_img=0, save='Visium_Score.png')"
   ]
  }
 ],
 "metadata": {
  "kernelspec": {
   "display_name": "Python 3 (ipykernel)",
   "language": "python",
   "name": "python3"
  },
  "language_info": {
   "codemirror_mode": {
    "name": "ipython",
    "version": 3
   },
   "file_extension": ".py",
   "mimetype": "text/x-python",
   "name": "python",
   "nbconvert_exporter": "python",
   "pygments_lexer": "ipython3",
   "version": "3.10.13"
  }
 },
 "nbformat": 4,
 "nbformat_minor": 5
}
